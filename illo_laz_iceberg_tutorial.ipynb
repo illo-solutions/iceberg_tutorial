{
 "cells": [
  {
   "cell_type": "markdown",
   "metadata": {},
   "source": [
    "# Hands on Iceberg with AWS Athena\n",
    "\n",
    "Before you go through this notebook, please check [README](./README.md) for a complete guide on how to set up everything.\n",
    "\n",
    "This notebook tries to help you to try AWS Athena on a easy a reproducible way."
   ]
  },
  {
   "cell_type": "code",
   "execution_count": 1,
   "metadata": {},
   "outputs": [
    {
     "name": "stdout",
     "output_type": "stream",
     "text": [
      "env: AWS_PROFILE=illo\n",
      "DATA_BUCKET = 'illo-laz-iceberg-data'\n"
     ]
    }
   ],
   "source": [
    "# Initial Run\n",
    "%env AWS_PROFILE=given_profile_name\n",
    "\n",
    "import os\n",
    "\n",
    "from dotenv import load_dotenv\n",
    "\n",
    "from magic_cells import get_var\n",
    "\n",
    "if not load_dotenv(f\"{os.getcwd()}/terraform.env\"):\n",
    "    raise ImportError(\"terraform.env not does not exist. You might need to run terraform first.\")\n",
    "\n",
    "DATA_BUCKET = os.environ[\"DATA_BUCKET\"]\n",
    "print(f\"{DATA_BUCKET = }\")\n"
   ]
  },
  {
   "cell_type": "code",
   "execution_count": null,
   "metadata": {},
   "outputs": [],
   "source": [
    "# Only run this cell once to upload the CSV to the S3 bucket\n",
    "import requests\n",
    "from io import BytesIO\n",
    "from zipfile import ZipFile\n",
    "\n",
    "import boto3\n",
    "\n",
    "DATASET_URL = \"https://github.com/awesomedata/awesome-public-datasets/raw/master/Datasets/titanic.csv.zip\"\n",
    "CSV_FOLDER = \"csv/\"\n",
    "\n",
    "# Download the dataset and open the zip file\n",
    "response_bytes = BytesIO(requests.get(DATASET_URL).content)\n",
    "zip_file = ZipFile(response_bytes)\n",
    "\n",
    "# Upload CSV file to S3 Bucket\n",
    "s3 = boto3.client(\"s3\")\n",
    "print(f\"\\nUploading files to '{DATA_BUCKET}/{CSV_FOLDER}'\")\n",
    "\n",
    "for file in zip_file.namelist():\n",
    "    if not file.startswith(\"__MACOSX\") and file.endswith(\".csv\"):\n",
    "        csv_file = zip_file.open(file)\n",
    "        s3.upload_fileobj(csv_file, DATA_BUCKET, CSV_FOLDER + file)\n",
    "        print(f\"    file '{file}' uploaded successfully.\")"
   ]
  },
  {
   "cell_type": "markdown",
   "metadata": {},
   "source": [
    "### Notebook with magic\n",
    "\n",
    "I created some magic cell commands that will make this notebook more enjoyable.\n",
    "\n",
    "- athena_exec: Its intended to be a function to edit your table or table schema. You could either create a table, delete it, populate or any action that requires any write. Its usage is very simple: `%%athena_exec <your_database>`\n",
    "\n",
    "- athena: Allows you to read data from Athena using SQL into a python dataframe.<br/>\n",
    "The usage will be `%%athena <your_database> <(Optional) python_variable_name>`\n",
    "\n",
    "Find examples of usage in the three following cells."
   ]
  },
  {
   "cell_type": "code",
   "execution_count": null,
   "metadata": {
    "vscode": {
     "languageId": "sql"
    }
   },
   "outputs": [],
   "source": [
    "%%athena_exec iceberg_catalog\n",
    "-- This query will create a Glue table pointing to our CSVs files\n",
    "CREATE EXTERNAL TABLE passenger_data_csv\n",
    "(\n",
    "    PassengerId bigint,\n",
    "    Survived bigint,\n",
    "    Pclass bigint,\n",
    "    Name string,\n",
    "    Sex string,\n",
    "    Age double,\n",
    "    SibSp bigint,\n",
    "    Parch bigint,\n",
    "    Ticket string,\n",
    "    Fare double,\n",
    "    Cabin string,\n",
    "    Embarked string\n",
    ")\n",
    "ROW FORMAT DELIMITED\n",
    "FIELDS TERMINATED BY ','\n",
    "STORED AS TEXTFILE\n",
    "LOCATION 's3://{DATA_BUCKET}/csv/';\n"
   ]
  },
  {
   "cell_type": "code",
   "execution_count": null,
   "metadata": {
    "vscode": {
     "languageId": "sql"
    }
   },
   "outputs": [],
   "source": [
    "%%athena iceberg_catalog df\n",
    "-- Simple select that saves the result as Pandas dataframe in the variable you defined\n",
    "SELECT * FROM passenger_data_csv LIMIT 10"
   ]
  },
  {
   "cell_type": "code",
   "execution_count": null,
   "metadata": {},
   "outputs": [],
   "source": [
    "df = get_var('df')\n",
    "df"
   ]
  },
  {
   "cell_type": "markdown",
   "metadata": {},
   "source": [
    "## Working with Iceberg\n",
    "\n",
    "Here you have two queries. On the first one, you define the table, where to store the data and metadata and the structure of it.\n",
    "The second one, uses the previous data from a CSV file to insert those values in there.\n",
    "You can go to your s3 bucket and you'll see all the files being created there following the Iceberg specs.\n"
   ]
  },
  {
   "cell_type": "code",
   "execution_count": null,
   "metadata": {
    "vscode": {
     "languageId": "sql"
    }
   },
   "outputs": [],
   "source": [
    "%%athena_exec iceberg_catalog\n",
    "-- This query will create a Glue table for Iceberg\n",
    "CREATE TABLE passenger_data_iceberg\n",
    "(\n",
    "    PassengerId bigint,\n",
    "    Survived bigint,\n",
    "    Pclass bigint,\n",
    "    Name string,\n",
    "    Sex string,\n",
    "    Age double,\n",
    "    SibSp bigint,\n",
    "    Parch bigint,\n",
    "    Ticket string,\n",
    "    Fare double,\n",
    "    Cabin string,\n",
    "    Embarked string\n",
    ")\n",
    "LOCATION 's3://{DATA_BUCKET}/passenger_iceberg/'\n",
    "TBLPROPERTIES ( 'table_type' ='ICEBERG'  );\n"
   ]
  },
  {
   "cell_type": "code",
   "execution_count": null,
   "metadata": {
    "vscode": {
     "languageId": "sql"
    }
   },
   "outputs": [],
   "source": [
    "%%athena_exec iceberg_catalog\n",
    "-- Load data into the iceberg table from csv table\n",
    "INSERT INTO passenger_data_iceberg\n",
    "SELECT * FROM passenger_data_csv ;"
   ]
  }
 ],
 "metadata": {
  "kernelspec": {
   "display_name": "Python 3 (ipykernel)",
   "language": "python",
   "name": "python3"
  },
  "language_info": {
   "codemirror_mode": {
    "name": "ipython",
    "version": 3
   },
   "file_extension": ".py",
   "mimetype": "text/x-python",
   "name": "python",
   "nbconvert_exporter": "python",
   "pygments_lexer": "ipython3",
   "version": "3.11.4"
  }
 },
 "nbformat": 4,
 "nbformat_minor": 2
}
